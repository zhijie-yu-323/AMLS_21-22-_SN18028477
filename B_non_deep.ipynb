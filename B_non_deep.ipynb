{
 "cells": [
  {
   "cell_type": "markdown",
   "id": "close-combine",
   "metadata": {},
   "source": [
    "# Task B -- None deep learning Method"
   ]
  },
  {
   "cell_type": "markdown",
   "id": "consolidated-arcade",
   "metadata": {},
   "source": [
    "Import packages"
   ]
  },
  {
   "cell_type": "code",
   "execution_count": 1,
   "id": "constitutional-shoot",
   "metadata": {},
   "outputs": [],
   "source": [
    "import os\n",
    "import pandas as pd\n",
    "import numpy as np\n",
    "\n",
    "import matplotlib.pyplot as plt\n",
    "%matplotlib inline\n",
    "\n",
    "from skimage.io import imread\n",
    "from skimage.transform import resize\n",
    "\n",
    "from sklearn import metrics, datasets\n",
    "from sklearn import svm, neighbors\n",
    "from sklearn.model_selection import GridSearchCV, train_test_split\n",
    "from sklearn.metrics import accuracy_score, confusion_matrix, ConfusionMatrixDisplay"
   ]
  },
  {
   "cell_type": "markdown",
   "id": "dangerous-marking",
   "metadata": {},
   "source": [
    "Import and flat images"
   ]
  },
  {
   "cell_type": "code",
   "execution_count": 2,
   "id": "local-topic",
   "metadata": {},
   "outputs": [],
   "source": [
    "# path of the files\n",
    "image_path = './dataset/image/' \n",
    "label_table = './dataset/label.csv'\n",
    "\n",
    "# import the csv file\n",
    "dataset = pd.read_csv(label_table)\n",
    "\n",
    "# set the dimension of the resized images for faster data processing\n",
    "dimension = (64,64)\n",
    "\n",
    "# category\n",
    "category = ['meningioma_tumor', 'glioma_tumor', 'pituitary_tumor', 'no_tumor']\n",
    "\n",
    "# load the images and labelling\n",
    "data = []\n",
    "target = []  \n",
    "for index in range(len(dataset)):\n",
    "    # get the label\n",
    "    label = str(dataset.iloc[index, 1])\n",
    "    target.append(label) \n",
    "    # get the image\n",
    "    imgPath = image_path + dataset.iloc[index,0]\n",
    "    img = imread(imgPath, as_gray=True)\n",
    "    img_resized = resize(img, dimension, anti_aliasing=True, mode='reflect')\n",
    "    data.append(img_resized.flatten())       \n",
    "\n",
    "# change to array\n",
    "data = np.array(data)\n",
    "target = np.array(target)\n"
   ]
  },
  {
   "cell_type": "markdown",
   "id": "japanese-destiny",
   "metadata": {},
   "source": [
    "SVC with linear kernel"
   ]
  },
  {
   "cell_type": "code",
   "execution_count": 3,
   "id": "intended-junior",
   "metadata": {},
   "outputs": [
    {
     "name": "stdout",
     "output_type": "stream",
     "text": [
      "Classification report for - \n",
      "GridSearchCV(estimator=SVC(C=100, kernel='linear'), param_grid={},\n",
      "             return_train_score=True):\n",
      "                  precision    recall  f1-score   support\n",
      "\n",
      "    glioma_tumor       0.72      0.77      0.75       177\n",
      "meningioma_tumor       0.72      0.68      0.70       174\n",
      "        no_tumor       0.78      0.71      0.75        87\n",
      " pituitary_tumor       0.95      0.97      0.96       162\n",
      "\n",
      "        accuracy                           0.79       600\n",
      "       macro avg       0.79      0.78      0.79       600\n",
      "    weighted avg       0.79      0.79      0.79       600\n",
      "\n",
      "\n",
      "The accuracy is 79.16666666666666%.\n"
     ]
    },
    {
     "data": {
      "text/plain": [
       "<sklearn.metrics._plot.confusion_matrix.ConfusionMatrixDisplay at 0x179458886d8>"
      ]
     },
     "execution_count": 3,
     "metadata": {},
     "output_type": "execute_result"
    },
    {
     "data": {
      "image/png": "[encoded data removed]",
      "text/plain": [
       "<Figure size 432x288 with 2 Axes>"
      ]
     },
     "metadata": {
      "needs_background": "light"
     },
     "output_type": "display_data"
    }
   ],
   "source": [
    "param_grid = {}\n",
    "C = 100  # SVM regularization parameter\n",
    "model = svm.SVC(kernel='linear', C=C)\n",
    "\n",
    "\n",
    "x_train, x_test, y_train, y_test = train_test_split(data, target, test_size=0.2,random_state=10)\n",
    "\n",
    "\n",
    "classifier = GridSearchCV(model, param_grid, return_train_score=True)\n",
    "\n",
    "classifier.fit(x_train, y_train)\n",
    "    \n",
    "y_pred = classifier.predict(x_test)\n",
    "print(\"Classification report for - \\n{}:\\n{}\\n\".format(classifier, metrics.classification_report(y_test, y_pred)))\n",
    "print(f\"The accuracy is {accuracy_score(y_pred,y_test)*100}%.\")\n",
    "\n",
    "# make confusion matrix\n",
    "cm = confusion_matrix(y_test, y_pred, labels=category)\n",
    "category_disp = ['meningioma', 'glioma', 'pituitary', 'no_tumor']\n",
    "disp = ConfusionMatrixDisplay(confusion_matrix=cm, display_labels=category_disp)\n",
    "disp.plot()"
   ]
  },
  {
   "cell_type": "markdown",
   "id": "signal-trust",
   "metadata": {},
   "source": [
    "SVC with RBF kernel"
   ]
  },
  {
   "cell_type": "code",
   "execution_count": 4,
   "id": "three-measurement",
   "metadata": {},
   "outputs": [
    {
     "name": "stdout",
     "output_type": "stream",
     "text": [
      "Classification report for - \n",
      "GridSearchCV(estimator=SVC(C=100, gamma=0.01), param_grid={},\n",
      "             return_train_score=True):\n",
      "                  precision    recall  f1-score   support\n",
      "\n",
      "    glioma_tumor       0.91      0.84      0.88       177\n",
      "meningioma_tumor       0.83      0.89      0.86       174\n",
      "        no_tumor       0.87      0.83      0.85        87\n",
      " pituitary_tumor       0.95      0.99      0.97       162\n",
      "\n",
      "        accuracy                           0.89       600\n",
      "       macro avg       0.89      0.89      0.89       600\n",
      "    weighted avg       0.89      0.89      0.89       600\n",
      "\n",
      "\n",
      "The accuracy is 89.33333333333333%.\n"
     ]
    },
    {
     "data": {
      "text/plain": [
       "<sklearn.metrics._plot.confusion_matrix.ConfusionMatrixDisplay at 0x17962bf40b8>"
      ]
     },
     "execution_count": 4,
     "metadata": {},
     "output_type": "execute_result"
    },
    {
     "data": {
      "image/png": "[encoded data removed]",
      "text/plain": [
       "<Figure size 432x288 with 2 Axes>"
      ]
     },
     "metadata": {
      "needs_background": "light"
     },
     "output_type": "display_data"
    }
   ],
   "source": [
    "param_grid = {}\n",
    "C = 100  # SVM regularization parameter\n",
    "model = svm.SVC(kernel='rbf', gamma=0.01, C=C)\n",
    "\n",
    "\n",
    "x_train, x_test, y_train, y_test = train_test_split(data, target, test_size=0.2,random_state=10)\n",
    "\n",
    "\n",
    "classifier = GridSearchCV(model, param_grid, return_train_score=True)\n",
    "\n",
    "classifier.fit(x_train, y_train)\n",
    "    \n",
    "y_pred = classifier.predict(x_test)\n",
    "print(\"Classification report for - \\n{}:\\n{}\\n\".format(classifier, metrics.classification_report(y_test, y_pred)))\n",
    "print(f\"The accuracy is {accuracy_score(y_pred,y_test)*100}%.\")\n",
    "\n",
    "# make confusion matrix\n",
    "cm = confusion_matrix(y_test, y_pred, labels=category)\n",
    "category_disp = ['meningioma', 'glioma', 'pituitary', 'no_tumor']\n",
    "disp = ConfusionMatrixDisplay(confusion_matrix=cm, display_labels=category_disp)\n",
    "disp.plot()"
   ]
  },
  {
   "cell_type": "markdown",
   "id": "comic-practitioner",
   "metadata": {},
   "source": [
    "SVC with polynomial (degree 3) kernel"
   ]
  },
  {
   "cell_type": "code",
   "execution_count": 5,
   "id": "metallic-specific",
   "metadata": {},
   "outputs": [
    {
     "name": "stdout",
     "output_type": "stream",
     "text": [
      "Classification report for - \n",
      "GridSearchCV(estimator=SVC(C=100, kernel='poly'), param_grid={},\n",
      "             return_train_score=True):\n",
      "                  precision    recall  f1-score   support\n",
      "\n",
      "    glioma_tumor       0.81      0.86      0.84       177\n",
      "meningioma_tumor       0.80      0.78      0.79       174\n",
      "        no_tumor       0.83      0.69      0.75        87\n",
      " pituitary_tumor       0.91      0.98      0.94       162\n",
      "\n",
      "        accuracy                           0.84       600\n",
      "       macro avg       0.84      0.82      0.83       600\n",
      "    weighted avg       0.84      0.84      0.84       600\n",
      "\n",
      "\n",
      "The accuracy is 84.16666666666667%.\n"
     ]
    },
    {
     "data": {
      "text/plain": [
       "<sklearn.metrics._plot.confusion_matrix.ConfusionMatrixDisplay at 0x17902f00198>"
      ]
     },
     "execution_count": 5,
     "metadata": {},
     "output_type": "execute_result"
    },
    {
     "data": {
      "image/png": "[encoded data removed]",
      "text/plain": [
       "<Figure size 432x288 with 2 Axes>"
      ]
     },
     "metadata": {
      "needs_background": "light"
     },
     "output_type": "display_data"
    }
   ],
   "source": [
    "param_grid = {}\n",
    "C = 100  # SVM regularization parameter\n",
    "model = svm.SVC(kernel='poly', degree=3, C=C)\n",
    "\n",
    "\n",
    "x_train, x_test, y_train, y_test = train_test_split(data, target, test_size=0.2,random_state=10)\n",
    "\n",
    "\n",
    "classifier = GridSearchCV(model, param_grid, return_train_score=True)\n",
    "\n",
    "classifier.fit(x_train, y_train)\n",
    "    \n",
    "y_pred = classifier.predict(x_test)\n",
    "print(\"Classification report for - \\n{}:\\n{}\\n\".format(classifier, metrics.classification_report(y_test, y_pred)))\n",
    "print(f\"The accuracy is {accuracy_score(y_pred,y_test)*100}%.\")\n",
    "\n",
    "# make confusion matrix\n",
    "cm = confusion_matrix(y_test, y_pred, labels=category)\n",
    "category_disp = ['meningioma', 'glioma', 'pituitary', 'no_tumor']\n",
    "disp = ConfusionMatrixDisplay(confusion_matrix=cm, display_labels=category_disp)\n",
    "disp.plot()"
   ]
  },
  {
   "cell_type": "markdown",
   "id": "exciting-degree",
   "metadata": {},
   "source": [
    "# "
   ]
  }
 ],
 "metadata": {
  "kernelspec": {
   "display_name": "Python 3",
   "language": "python",
   "name": "python3"
  },
  "language_info": {
   "codemirror_mode": {
    "name": "ipython",
    "version": 3
   },
   "file_extension": ".py",
   "mimetype": "text/x-python",
   "name": "python",
   "nbconvert_exporter": "python",
   "pygments_lexer": "ipython3",
   "version": "3.7.3"
  }
 },
 "nbformat": 4,
 "nbformat_minor": 5
}
