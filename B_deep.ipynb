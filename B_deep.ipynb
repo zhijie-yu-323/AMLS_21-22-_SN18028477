{
 "cells": [
  {
   "cell_type": "markdown",
   "id": "rapid-maker",
   "metadata": {},
   "source": [
    "# Task B -- Deep learning method"
   ]
  },
  {
   "cell_type": "markdown",
   "id": "loose-scope",
   "metadata": {},
   "source": [
    "Import packages"
   ]
  },
  {
   "cell_type": "code",
   "execution_count": 1,
   "id": "variable-journalist",
   "metadata": {},
   "outputs": [],
   "source": [
    "import os\n",
    "import pandas as pd\n",
    "import numpy as np\n",
    "\n",
    "# visualizing data\n",
    "import matplotlib.pyplot as plt\n",
    "%matplotlib inline\n",
    "\n",
    "\n",
    "#data\n",
    "from skimage import io, transform\n",
    "from skimage.io import imread\n",
    "from sklearn import metrics, datasets\n",
    "from sklearn.utils import shuffle\n",
    "from sklearn.metrics import accuracy_score, confusion_matrix, ConfusionMatrixDisplay\n",
    "\n",
    "# import torch.nn.functional as F\n",
    "import numpy as np\n",
    "import math\n",
    "\n",
    "from PIL import Image"
   ]
  },
  {
   "cell_type": "code",
   "execution_count": 2,
   "id": "apart-calvin",
   "metadata": {},
   "outputs": [],
   "source": [
    "#import torch\n",
    "import torch\n",
    "import torch.nn as nn\n",
    "from torch.utils import data\n",
    "from torch.utils.data import DataLoader\n",
    "import torch.utils.model_zoo as model_zoo\n",
    "import torchvision\n",
    "import torchvision.datasets as datasets\n",
    "import torchvision.transforms as transforms\n",
    "from PIL import Image"
   ]
  },
  {
   "cell_type": "code",
   "execution_count": 3,
   "id": "human-consumer",
   "metadata": {},
   "outputs": [
    {
     "name": "stdout",
     "output_type": "stream",
     "text": [
      "CUDA is available.\n"
     ]
    }
   ],
   "source": [
    "# train_on_gpu\n",
    "train_on_gpu = torch.cuda.is_available()\n",
    "\n",
    "if not train_on_gpu:\n",
    "    print('CUDA is not available.')\n",
    "else:\n",
    "    print('CUDA is available.')"
   ]
  },
  {
   "cell_type": "markdown",
   "id": "dedicated-magnitude",
   "metadata": {},
   "source": [
    "Load image functions"
   ]
  },
  {
   "cell_type": "code",
   "execution_count": 4,
   "id": "downtown-excerpt",
   "metadata": {},
   "outputs": [],
   "source": [
    "# Tumor class: used for load images from folder and add lables\n",
    "class Tumor(data.Dataset):\n",
    "    def __init__(self,image_path = './dataset/image/', label_table = './dataset/label.csv'):\n",
    "        self.image_path = image_path\n",
    "        self.label_table = label_table\n",
    "        self.dataset = pd.read_csv(label_table)\n",
    "        self.category_dict = {'meningioma_tumor':0, 'glioma_tumor':1, 'pituitary_tumor':2, 'no_tumor':3}\n",
    "        self.label_dict = {0:'meningioma_tumor', 1:'glioma_tumor', 2:'pituitary_tumor', 3:'no_tumor'}\n",
    "        self.transform = transforms.Compose([transforms.Resize((256,256)),\n",
    "                                transforms.Grayscale(num_output_channels=1),\n",
    "                                    transforms.ToTensor()])\n",
    "    def __len__(self):\n",
    "        return len(self.dataset)\n",
    "    \n",
    "    def __getitem__(self, index):\n",
    "        label = self.category_dict[str(self.dataset.iloc[index, 1])]\n",
    "        imgPath = self.image_path + self.dataset.iloc[index, 0]\n",
    "        img = Image.open(imgPath)\n",
    "        img = self.transform(img)\n",
    "\n",
    "        return img, label"
   ]
  },
  {
   "cell_type": "markdown",
   "id": "acceptable-pride",
   "metadata": {},
   "source": [
    "Load images from folder and seperate to different sets for learning and testing"
   ]
  },
  {
   "cell_type": "code",
   "execution_count": 5,
   "id": "insured-mechanism",
   "metadata": {},
   "outputs": [
    {
     "name": "stdout",
     "output_type": "stream",
     "text": [
      "Load data successful!\n"
     ]
    }
   ],
   "source": [
    "# batch size\n",
    "batch_size=16\n",
    "\n",
    "# define datasets using ImageFolder\n",
    "training_dataset = Tumor()\n",
    "\n",
    "# seperate data to three sets: training set, validataion set, and test set\n",
    "length = len(training_dataset)\n",
    "\n",
    "learning_size = int(0.8 * length)\n",
    "test_size = length - learning_size\n",
    "learning_set, test_set = torch.utils.data.random_split(training_dataset, [learning_size, test_size])\n",
    "\n",
    "training_size = int(0.75 * learning_size)\n",
    "validation_size = learning_size - training_size\n",
    "training_set, validation_set = torch.utils.data.random_split(learning_set, [training_size, validation_size])\n",
    "\n",
    "# create and return DataLoaders\n",
    "num_workers=0\n",
    "training_loader = DataLoader(dataset=training_set, batch_size=batch_size, \n",
    "                          shuffle=True, num_workers=num_workers)\n",
    "validation_loader = DataLoader(dataset=validation_set, batch_size=batch_size, \n",
    "                          shuffle=True, num_workers=num_workers)\n",
    "test_loader = DataLoader(dataset=test_set, batch_size=batch_size, \n",
    "                          shuffle=True, num_workers=num_workers)\n",
    "\n",
    "print('Load data successful!')"
   ]
  },
  {
   "cell_type": "markdown",
   "id": "institutional-somerset",
   "metadata": {},
   "source": [
    "Classic CNN model: Resnet18"
   ]
  },
  {
   "cell_type": "code",
   "execution_count": 6,
   "id": "executive-spectrum",
   "metadata": {},
   "outputs": [],
   "source": [
    "def conv3x3(in_planes, out_planes, stride=1):\n",
    "    \"3x3 convolution with padding\"\n",
    "    return nn.Conv2d(in_planes, out_planes, kernel_size=3, stride=stride,\n",
    "                     padding=1, bias=False)\n",
    "\n",
    "\n",
    "class BasicBlock(nn.Module):\n",
    "    expansion = 1\n",
    "\n",
    "    def __init__(self, inplanes, planes, stride=1, downsample=None):\n",
    "        super(BasicBlock, self).__init__()\n",
    "        self.conv1 = conv3x3(inplanes, planes, stride)\n",
    "        self.bn1 = nn.BatchNorm2d(planes)\n",
    "        self.relu = nn.ReLU(inplace=True)\n",
    "        self.conv2 = conv3x3(planes, planes)\n",
    "        self.bn2 = nn.BatchNorm2d(planes)\n",
    "        self.downsample = downsample\n",
    "        self.stride = stride\n",
    "\n",
    "    def forward(self, x):\n",
    "        residual = x\n",
    "\n",
    "        out = self.conv1(x)\n",
    "        out = self.bn1(out)\n",
    "        out = self.relu(out)\n",
    "\n",
    "        out = self.conv2(out)\n",
    "        out = self.bn2(out)\n",
    "\n",
    "        if self.downsample is not None:\n",
    "            residual = self.downsample(x)\n",
    "\n",
    "        out += residual\n",
    "        out = self.relu(out)\n",
    "\n",
    "        return out\n",
    "\n",
    "\n",
    "class Bottleneck(nn.Module):\n",
    "    expansion = 4\n",
    "\n",
    "    def __init__(self, inplanes, planes, stride=1, downsample=None):\n",
    "        super(Bottleneck, self).__init__()\n",
    "        self.conv1 = nn.Conv2d(inplanes, planes, kernel_size=1, bias=False)\n",
    "        self.bn1 = nn.BatchNorm2d(planes)\n",
    "        self.conv2 = nn.Conv2d(planes, planes, kernel_size=3, stride=stride,\n",
    "                               padding=1, bias=False)\n",
    "        self.bn2 = nn.BatchNorm2d(planes)\n",
    "        self.conv3 = nn.Conv2d(planes, planes * 4, kernel_size=1, bias=False)\n",
    "        self.bn3 = nn.BatchNorm2d(planes * 4)\n",
    "        self.relu = nn.ReLU(inplace=True)\n",
    "        self.downsample = downsample \n",
    "        self.stride = stride\n",
    "\n",
    "    def forward(self, x):\n",
    "        residual = x\n",
    "\n",
    "        out = self.conv1(x)\n",
    "        out = self.bn1(out)\n",
    "        out = self.relu(out)\n",
    "\n",
    "        out = self.conv2(out)\n",
    "        out = self.bn2(out)\n",
    "        out = self.relu(out)\n",
    "\n",
    "        out = self.conv3(out)\n",
    "        out = self.bn3(out)\n",
    "\n",
    "        if self.downsample is not None:\n",
    "            residual = self.downsample(x)\n",
    "\n",
    "        out += residual\n",
    "        out = self.relu(out)\n",
    "\n",
    "        return out\n",
    "\n",
    "\n",
    "class ResNet(nn.Module):\n",
    "    def __init__(self, block, layers, num_classes=1000):\n",
    "        self.inplanes = 64\n",
    "        super(ResNet, self).__init__()\n",
    "        self.conv1 = nn.Conv2d(1, 64, kernel_size=7, stride=2, padding=3,\n",
    "                               bias=False)\n",
    "        self.bn1 = nn.BatchNorm2d(64)\n",
    "        self.relu = nn.ReLU(inplace=True)\n",
    "        self.maxpool = nn.MaxPool2d(kernel_size=3, stride=2, padding=1)\n",
    "        self.layer1 = self._make_layer(block, 64, layers[0])\n",
    "        self.layer2 = self._make_layer(block, 128, layers[1], stride=2)\n",
    "        self.layer3 = self._make_layer(block, 256, layers[2], stride=2)\n",
    "        self.layer4 = self._make_layer(block, 512, layers[3], stride=2) # here\n",
    "        \n",
    "        self.drop1 = nn.Dropout(0.5)\n",
    "        self.dense1 = nn.Linear(32768, 128)\n",
    "\n",
    "        self.drop2 = nn.Dropout(0.5)\n",
    "        self.dense2 = nn.Linear(128,4) #change channel \n",
    "        \n",
    "\n",
    "        for m in self.modules():\n",
    "            if isinstance(m, nn.Conv2d):\n",
    "                n = m.kernel_size[0] * m.kernel_size[1] * m.out_channels\n",
    "                m.weight.data.normal_(0, math.sqrt(2. / n))\n",
    "            elif isinstance(m, nn.BatchNorm2d):\n",
    "                m.weight.data.fill_(1)\n",
    "                m.bias.data.zero_()\n",
    "\n",
    "    def _make_layer(self, block, planes, blocks, stride=1):\n",
    "        downsample = None\n",
    "        if stride != 1 or self.inplanes != planes * block.expansion:\n",
    "            downsample = nn.Sequential(\n",
    "                nn.Conv2d(self.inplanes, planes * block.expansion,\n",
    "                          kernel_size=1, stride=stride, bias=False),\n",
    "                nn.BatchNorm2d(planes * block.expansion),\n",
    "            )\n",
    "\n",
    "        layers = []\n",
    "        layers.append(block(self.inplanes, planes, stride, downsample))\n",
    "        self.inplanes = planes * block.expansion\n",
    "        for i in range(1, blocks):\n",
    "            layers.append(block(self.inplanes, planes))\n",
    "\n",
    "        return nn.Sequential(*layers)\n",
    "\n",
    "    def forward(self, x):\n",
    "        x = self.conv1(x) #rgb to gray scale\n",
    "        x = self.bn1(x)\n",
    "        x = self.relu(x)\n",
    "        x = self.maxpool(x)\n",
    "\n",
    "        x1 = self.layer1(x)\n",
    "        x2 = self.layer2(x1)\n",
    "        x3 = self.layer3(x2)\n",
    "        x4 = self.layer4(x3)\n",
    "        \n",
    "        # print(x4.size())\n",
    "        x = x4.view(x4.size(0), -1)\n",
    "        # print(x.size())\n",
    "        x = self.drop1(x)\n",
    "        # print(x.size())\n",
    "        x = self.dense1(x)\n",
    "        \n",
    "        x = self.drop2(x) # convert \n",
    "        x = self.dense2(x) #\n",
    "\n",
    "        return  x # [x4, x3, x2, x1]\n",
    "\n",
    "\n",
    "model_urls = {\n",
    "    'resnet18': 'https://download.pytorch.org/models/resnet18-5c106cde.pth',\n",
    "    'resnet34': 'https://download.pytorch.org/models/resnet34-333f7ec4.pth',\n",
    "    'resnet50': 'https://download.pytorch.org/models/resnet50-19c8e357.pth',\n",
    "    'resnet101': 'https://download.pytorch.org/models/resnet101-5d3b4d8f.pth',\n",
    "    'resnet152': 'https://download.pytorch.org/models/resnet152-b121ed2d.pth',\n",
    "}\n",
    "\n",
    "def resnet18(pretrained=False, **kwargs):\n",
    "    \"\"\"Constructs a ResNet-18 model.\n",
    "    Args:\n",
    "        pretrained (bool): If True, returns a model pre-trained on ImageNet\n",
    "    \"\"\"\n",
    "    model = ResNet(BasicBlock, [2, 2, 2, 2], **kwargs)\n",
    "    if pretrained:\n",
    "        from collections import OrderedDict\n",
    "        state_dict = model.state_dict()\n",
    "        pretrained_state_dict = model_zoo.load_url(model_urls['resnet18'])\n",
    "        for k, v in pretrained_state_dict.items():\n",
    "            if k not in state_dict:\n",
    "                continue\n",
    "            state_dict[k] = v\n",
    "        model.load_state_dict(state_dict)\n",
    "    return model\n"
   ]
  },
  {
   "cell_type": "markdown",
   "id": "quarterly-thesaurus",
   "metadata": {},
   "source": [
    "Model selection"
   ]
  },
  {
   "cell_type": "code",
   "execution_count": 7,
   "id": "composite-allah",
   "metadata": {},
   "outputs": [],
   "source": [
    "model = resnet18()\n",
    "\n",
    "if train_on_gpu:\n",
    "    model.cuda()\n",
    "    \n",
    "criterion = nn.CrossEntropyLoss()\n",
    "optimizer = torch.optim.Adam(model.parameters())"
   ]
  },
  {
   "cell_type": "markdown",
   "id": "effective-battlefield",
   "metadata": {},
   "source": [
    "Train the model resnet18"
   ]
  },
  {
   "cell_type": "code",
   "execution_count": 8,
   "id": "following-museum",
   "metadata": {
    "scrolled": true
   },
   "outputs": [
    {
     "name": "stdout",
     "output_type": "stream",
     "text": [
      "Epoch: 0 \t Training Loss: 8.763244 \t Validation Loss: 4.751360\n",
      "Validation loss decreased (inf --> 4.751360).  Saving model ...\n",
      "Model saved.\n",
      "Epoch: 1 \t Training Loss: 3.085362 \t Validation Loss: 3.140636\n",
      "Validation loss decreased (4.751360 --> 3.140636).  Saving model ...\n",
      "Model saved.\n",
      "Epoch: 2 \t Training Loss: 1.734961 \t Validation Loss: 3.848866\n",
      "Epoch: 3 \t Training Loss: 1.316664 \t Validation Loss: 1.627699\n",
      "Validation loss decreased (3.140636 --> 1.627699).  Saving model ...\n",
      "Model saved.\n",
      "Epoch: 4 \t Training Loss: 1.002243 \t Validation Loss: 1.065711\n",
      "Validation loss decreased (1.627699 --> 1.065711).  Saving model ...\n",
      "Model saved.\n",
      "Epoch: 5 \t Training Loss: 0.822337 \t Validation Loss: 0.669828\n",
      "Validation loss decreased (1.065711 --> 0.669828).  Saving model ...\n",
      "Model saved.\n",
      "Epoch: 6 \t Training Loss: 0.720985 \t Validation Loss: 0.813268\n",
      "Epoch: 7 \t Training Loss: 0.685122 \t Validation Loss: 1.109852\n",
      "Epoch: 8 \t Training Loss: 0.536948 \t Validation Loss: 0.969297\n",
      "Epoch: 9 \t Training Loss: 0.518075 \t Validation Loss: 0.897408\n",
      "Epoch: 10 \t Training Loss: 0.433266 \t Validation Loss: 0.728945\n",
      "Epoch: 11 \t Training Loss: 0.315842 \t Validation Loss: 0.871017\n",
      "Epoch: 12 \t Training Loss: 0.331301 \t Validation Loss: 0.565970\n",
      "Validation loss decreased (0.669828 --> 0.565970).  Saving model ...\n",
      "Model saved.\n",
      "Epoch: 13 \t Training Loss: 0.250029 \t Validation Loss: 0.644919\n",
      "Epoch: 14 \t Training Loss: 0.240914 \t Validation Loss: 0.906407\n",
      "Epoch: 15 \t Training Loss: 0.241389 \t Validation Loss: 0.871648\n",
      "Epoch: 16 \t Training Loss: 0.292467 \t Validation Loss: 0.789128\n",
      "Epoch: 17 \t Training Loss: 0.141923 \t Validation Loss: 0.692413\n",
      "Epoch: 18 \t Training Loss: 0.175829 \t Validation Loss: 0.632579\n",
      "Epoch: 19 \t Training Loss: 0.191965 \t Validation Loss: 0.693372\n",
      "Epoch: 20 \t Training Loss: 0.105064 \t Validation Loss: 0.599128\n",
      "Epoch: 21 \t Training Loss: 0.123827 \t Validation Loss: 0.814605\n",
      "Epoch: 22 \t Training Loss: 0.144595 \t Validation Loss: 0.600061\n",
      "Epoch: 23 \t Training Loss: 0.138880 \t Validation Loss: 0.625019\n",
      "Epoch: 24 \t Training Loss: 0.145008 \t Validation Loss: 0.767969\n",
      "Epoch: 25 \t Training Loss: 0.130405 \t Validation Loss: 0.765289\n",
      "Epoch: 26 \t Training Loss: 0.145770 \t Validation Loss: 0.920817\n",
      "Epoch: 27 \t Training Loss: 0.185010 \t Validation Loss: 0.608020\n",
      "Epoch: 28 \t Training Loss: 0.135263 \t Validation Loss: 0.878168\n",
      "Epoch: 29 \t Training Loss: 0.143980 \t Validation Loss: 0.615542\n",
      "Epoch: 30 \t Training Loss: 0.075523 \t Validation Loss: 0.699644\n",
      "Epoch: 31 \t Training Loss: 0.114196 \t Validation Loss: 0.626151\n",
      "Epoch: 32 \t Training Loss: 0.124569 \t Validation Loss: 0.628324\n",
      "Epoch: 33 \t Training Loss: 0.093612 \t Validation Loss: 0.761919\n",
      "Epoch: 34 \t Training Loss: 0.125154 \t Validation Loss: 0.824006\n",
      "Epoch: 35 \t Training Loss: 0.267879 \t Validation Loss: 0.596284\n",
      "Epoch: 36 \t Training Loss: 0.171373 \t Validation Loss: 0.541872\n",
      "Validation loss decreased (0.565970 --> 0.541872).  Saving model ...\n",
      "Model saved.\n",
      "Epoch: 37 \t Training Loss: 0.089094 \t Validation Loss: 0.763256\n",
      "Epoch: 38 \t Training Loss: 0.071794 \t Validation Loss: 0.827965\n",
      "Epoch: 39 \t Training Loss: 0.066805 \t Validation Loss: 0.768989\n",
      "Epoch: 40 \t Training Loss: 0.194798 \t Validation Loss: 0.767199\n",
      "Epoch: 41 \t Training Loss: 0.159279 \t Validation Loss: 0.805624\n",
      "Epoch: 42 \t Training Loss: 0.103250 \t Validation Loss: 0.997529\n",
      "Epoch: 43 \t Training Loss: 0.165889 \t Validation Loss: 0.841853\n",
      "Epoch: 44 \t Training Loss: 0.101890 \t Validation Loss: 1.021047\n",
      "Epoch: 45 \t Training Loss: 0.206156 \t Validation Loss: 0.801868\n",
      "Epoch: 46 \t Training Loss: 0.094156 \t Validation Loss: 0.866809\n",
      "Epoch: 47 \t Training Loss: 0.080103 \t Validation Loss: 0.778617\n",
      "Epoch: 48 \t Training Loss: 0.033193 \t Validation Loss: 0.648537\n",
      "Epoch: 49 \t Training Loss: 0.073084 \t Validation Loss: 0.857748\n"
     ]
    }
   ],
   "source": [
    "#  num of epochs need to run\n",
    "n_epochs = 50\n",
    "\n",
    "# initialize minimum validation loss\n",
    "min_valid_loss = np.Inf \n",
    "\n",
    "train_loss_list = []\n",
    "valid_loss_list = []\n",
    "\n",
    "for epoch in range(n_epochs):\n",
    "    # keep track of training and validation loss\n",
    "    train_loss = 0.0\n",
    "    valid_loss = 0.0\n",
    "    \n",
    "    # train the model    \n",
    "    model.train()\n",
    "    for data, target in training_loader:\n",
    "        if train_on_gpu:\n",
    "            data, target = data.cuda(), target.cuda()\n",
    "        optimizer.zero_grad()\n",
    "        output = model(data)\n",
    "        loss = criterion(output, target)\n",
    "        loss.backward()\n",
    "        optimizer.step()\n",
    "        train_loss += loss.item() * data.size(0)\n",
    "        \n",
    "    # validate model\n",
    "    model.eval()\n",
    "    for data, target in validation_loader:\n",
    "        if train_on_gpu:\n",
    "            data, target = data.cuda(), target.cuda()\n",
    "        output = model(data)\n",
    "        loss = criterion(output, target)\n",
    "        valid_loss += loss.item() * data.size(0)\n",
    "    \n",
    "    # calculate average losses\n",
    "    train_loss = train_loss / len(training_loader.sampler)\n",
    "    valid_loss = valid_loss / len(validation_loader.sampler)\n",
    "    \n",
    "    # save train loss and valid loss for analyzing\n",
    "    train_loss_list.append(train_loss)\n",
    "    valid_loss_list.append(valid_loss)\n",
    "        \n",
    "    # print epoch statistics \n",
    "    print('Epoch: {} \\t Training Loss: {:.6f} \\t Validation Loss: {:.6f}'.format(\n",
    "        epoch, train_loss, valid_loss))\n",
    "    \n",
    "    # save model if validation loss has decreased\n",
    "    if valid_loss <= min_valid_loss:\n",
    "        print('Validation loss decreased ({:.6f} --> {:.6f}).  Saving model ...'.format(\n",
    "        min_valid_loss,\n",
    "        valid_loss))\n",
    "        torch.save(model.state_dict(), 'resnet18.pt')\n",
    "        min_valid_loss = valid_loss\n",
    "        print('Model saved.')"
   ]
  },
  {
   "cell_type": "markdown",
   "id": "available-spray",
   "metadata": {},
   "source": [
    "Plot loss vs. epochs"
   ]
  },
  {
   "cell_type": "code",
   "execution_count": 9,
   "id": "incorrect-blend",
   "metadata": {},
   "outputs": [
    {
     "data": {
      "text/plain": [
       "Text(0, 0.5, 'Loss')"
      ]
     },
     "execution_count": 9,
     "metadata": {},
     "output_type": "execute_result"
    },
    {
     "data": {
      "image/png": "[encoded data removed]",
      "text/plain": [
       "<Figure size 432x288 with 1 Axes>"
      ]
     },
     "metadata": {
      "needs_background": "light"
     },
     "output_type": "display_data"
    }
   ],
   "source": [
    "plt.plot(train_loss_list, label='Train loss')\n",
    "plt.plot(valid_loss_list, label='Validation loss')\n",
    "plt.legend()\n",
    "plt.xlabel('Epoch')\n",
    "plt.ylabel('Loss')"
   ]
  },
  {
   "cell_type": "markdown",
   "id": "scheduled-postage",
   "metadata": {},
   "source": [
    "Test the saved model"
   ]
  },
  {
   "cell_type": "code",
   "execution_count": 10,
   "id": "dangerous-colon",
   "metadata": {
    "scrolled": true
   },
   "outputs": [
    {
     "name": "stdout",
     "output_type": "stream",
     "text": [
      "Classification report for resnet18:\n",
      "              precision    recall  f1-score   support\n",
      "\n",
      "           0       0.80      0.78      0.79       166\n",
      "           1       0.76      0.91      0.83       142\n",
      "           2       0.97      0.95      0.96       178\n",
      "           3       0.97      0.80      0.88       114\n",
      "\n",
      "    accuracy                           0.86       600\n",
      "   macro avg       0.88      0.86      0.86       600\n",
      "weighted avg       0.87      0.86      0.87       600\n",
      "\n",
      "\n",
      "The accuracy is 86.5%.\n"
     ]
    },
    {
     "data": {
      "text/plain": [
       "<sklearn.metrics._plot.confusion_matrix.ConfusionMatrixDisplay at 0x26d88a1e518>"
      ]
     },
     "execution_count": 10,
     "metadata": {},
     "output_type": "execute_result"
    },
    {
     "data": {
      "image/png": "[encoded data removed]",
      "text/plain": [
       "<Figure size 432x288 with 2 Axes>"
      ]
     },
     "metadata": {
      "needs_background": "light"
     },
     "output_type": "display_data"
    }
   ],
   "source": [
    "# initialize predict and true result\n",
    "y_pred = []\n",
    "y_test = []\n",
    "\n",
    "# test the saved model\n",
    "model.load_state_dict(torch.load('resnet18.pt'))\n",
    "model.eval()\n",
    "for data, target in test_loader:\n",
    "    # move tensors to GPU if CUDA is available\n",
    "    if train_on_gpu:\n",
    "        data, target = data.cuda(), target.cuda()\n",
    "    output = model(data)\n",
    "    \n",
    "    # convert output probabilities to predicted class\n",
    "    _, pred = torch.max(output, 1)    \n",
    "    \n",
    "    \n",
    "    y_pred += target.tolist()\n",
    "    y_test += pred.tolist()\n",
    "\n",
    "    \n",
    "print(\"Classification report for resnet18:\\n{}\\n\".format(metrics.classification_report(y_test, y_pred)))\n",
    "print(f\"The accuracy is {accuracy_score(y_pred,y_test)*100}%.\")\n",
    "\n",
    "category = [0, 1, 2, 3]\n",
    "# make confusion matrix\n",
    "cm = confusion_matrix(y_test, y_pred, labels=category)\n",
    "category_disp = ['meningioma', 'glioma', 'pituitary', 'no_tumor']\n",
    "disp = ConfusionMatrixDisplay(confusion_matrix=cm, display_labels=category_disp)\n",
    "disp.plot()\n"
   ]
  },
  {
   "cell_type": "code",
   "execution_count": null,
   "id": "brazilian-albany",
   "metadata": {},
   "outputs": [],
   "source": []
  }
 ],
 "metadata": {
  "kernelspec": {
   "display_name": "Python 3",
   "language": "python",
   "name": "python3"
  },
  "language_info": {
   "codemirror_mode": {
    "name": "ipython",
    "version": 3
   },
   "file_extension": ".py",
   "mimetype": "text/x-python",
   "name": "python",
   "nbconvert_exporter": "python",
   "pygments_lexer": "ipython3",
   "version": "3.7.3"
  }
 },
 "nbformat": 4,
 "nbformat_minor": 5
}
